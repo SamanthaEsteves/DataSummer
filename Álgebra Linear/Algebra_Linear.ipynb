{
 "cells": [
  {
   "cell_type": "markdown",
   "metadata": {},
   "source": [
    "# <b>Àlgebra Linear: fundamentos e aplicações em Ciência de Dados</b>"
   ]
  },
  {
   "cell_type": "markdown",
   "metadata": {},
   "source": [
    "Autor: Ronisson Lucas Calmon da Conceição"
   ]
  },
  {
   "cell_type": "markdown",
   "metadata": {},
   "source": [
    "GitHub: https://github.com/ronissonlucas <br>\n",
    "Linkdin: https://www.linkedin.com/in/ronisson-lucas-calmon-da-concei%C3%A7%C3%A3o-7aa884202/ <br>\n",
    "Facebook: https://www.facebook.com/ronisson.lucas"
   ]
  },
  {
   "cell_type": "markdown",
   "metadata": {},
   "source": [
    "Tópicos:\n",
    "1. Vetor\n",
    "2. Matrizes\n",
    "3. Sistemas Lineares\n",
    "4. Determinante\n",
    "5. Produto interno\n",
    "6. Norma\n",
    "7. Combinação Linear\n",
    "8. Hands On! - Parte I\n",
    "9. Hands On! - Parte II\n",
    "10. Próximos passos: Rede Neural\n",
    "11. Adendos"
   ]
  },
  {
   "cell_type": "markdown",
   "metadata": {},
   "source": [
    "# 1. Vetor"
   ]
  },
  {
   "cell_type": "code",
   "execution_count": 1,
   "metadata": {},
   "outputs": [],
   "source": [
    "import numpy as np"
   ]
  },
  {
   "cell_type": "markdown",
   "metadata": {},
   "source": [
    "* Vetor: módulo, direção e sentido (array unidimensional 1-D)."
   ]
  },
  {
   "cell_type": "markdown",
   "metadata": {},
   "source": [
    "$\\mathbf{x} = \\left[\n",
    "\\begin{array}{c c c}\n",
    "1\\\\\n",
    "7\\\\\n",
    "-1\\\\\n",
    "\\end{array}\\right]\n",
    "$$ $"
   ]
  },
  {
   "cell_type": "code",
   "execution_count": 2,
   "metadata": {},
   "outputs": [
    {
     "data": {
      "text/plain": [
       "array([[ 1],\n",
       "       [ 7],\n",
       "       [-1]])"
      ]
     },
     "execution_count": 2,
     "metadata": {},
     "output_type": "execute_result"
    }
   ],
   "source": [
    "x = np.array([[1], [7], [-1]])\n",
    "x"
   ]
  },
  {
   "cell_type": "code",
   "execution_count": 3,
   "metadata": {},
   "outputs": [
    {
     "data": {
      "text/plain": [
       "array([[ 1],\n",
       "       [ 7],\n",
       "       [-1]])"
      ]
     },
     "execution_count": 3,
     "metadata": {},
     "output_type": "execute_result"
    }
   ],
   "source": [
    "x = np.array([1, 7, -1])\n",
    "x.shape = (x.shape[0],1)\n",
    "x"
   ]
  },
  {
   "cell_type": "markdown",
   "metadata": {},
   "source": [
    "Igualdade"
   ]
  },
  {
   "cell_type": "markdown",
   "metadata": {},
   "source": [
    "$\\mathbf{u} = \\left(x_1, y_1, z_1 \\right)$, $\\mathbf{v} = \\left(x_2, y_2, z_2\\right)$"
   ]
  },
  {
   "cell_type": "markdown",
   "metadata": {},
   "source": [
    "$\\mathbf{u} = \\mathbf{v} \\Leftrightarrow x_1 = x_2, y_1 = y_2, z_1 = z_2$"
   ]
  },
  {
   "cell_type": "code",
   "execution_count": 4,
   "metadata": {},
   "outputs": [],
   "source": [
    "u = np.array([1, 4, 100])\n",
    "v = np.array([1, np.log2(16), np.power(10, 2)])"
   ]
  },
  {
   "cell_type": "code",
   "execution_count": 5,
   "metadata": {},
   "outputs": [
    {
     "data": {
      "text/plain": [
       "array([ True,  True,  True])"
      ]
     },
     "execution_count": 5,
     "metadata": {},
     "output_type": "execute_result"
    }
   ],
   "source": [
    "u == v"
   ]
  },
  {
   "cell_type": "markdown",
   "metadata": {},
   "source": [
    "Soma e multiplicação por escalar"
   ]
  },
  {
   "cell_type": "markdown",
   "metadata": {},
   "source": [
    "$\\mathbf{u}+\\mathbf{v} = (x_1+x_2, y_1+y_2, z_1+z_2)$ <br>\n",
    "$a\\mathbf{v} = (ax_1,ay_1,az_1), a \\in \\mathbb{R}$"
   ]
  },
  {
   "cell_type": "code",
   "execution_count": 6,
   "metadata": {},
   "outputs": [
    {
     "data": {
      "text/plain": [
       "array([20, 15, 15])"
      ]
     },
     "execution_count": 6,
     "metadata": {},
     "output_type": "execute_result"
    }
   ],
   "source": [
    "u = np.array([11, 12, 13])\n",
    "v = np.array([9, 3, 2])\n",
    "u+v"
   ]
  },
  {
   "cell_type": "code",
   "execution_count": 7,
   "metadata": {},
   "outputs": [
    {
     "data": {
      "text/plain": [
       "array([110, 120, 130])"
      ]
     },
     "execution_count": 7,
     "metadata": {},
     "output_type": "execute_result"
    }
   ],
   "source": [
    "10*u"
   ]
  },
  {
   "cell_type": "markdown",
   "metadata": {},
   "source": [
    "Produto escalar (ou produto interno)"
   ]
  },
  {
   "cell_type": "markdown",
   "metadata": {},
   "source": [
    "$\\mathbf{u} \\cdot \\mathbf{v} = x_1x_2+y_1y_2+z_1z_2$"
   ]
  },
  {
   "cell_type": "code",
   "execution_count": 8,
   "metadata": {},
   "outputs": [
    {
     "data": {
      "text/plain": [
       "161"
      ]
     },
     "execution_count": 8,
     "metadata": {},
     "output_type": "execute_result"
    }
   ],
   "source": [
    "sum(u*v)"
   ]
  },
  {
   "cell_type": "code",
   "execution_count": 9,
   "metadata": {},
   "outputs": [
    {
     "data": {
      "text/plain": [
       "161"
      ]
     },
     "execution_count": 9,
     "metadata": {},
     "output_type": "execute_result"
    }
   ],
   "source": [
    "np.inner(u,v)"
   ]
  },
  {
   "cell_type": "markdown",
   "metadata": {},
   "source": [
    "Dois vetores são ortogonais ou perpendiculares se o produto interno entre eles for nulo."
   ]
  },
  {
   "cell_type": "markdown",
   "metadata": {},
   "source": [
    "$\\mathbf{u} \\cdot \\mathbf{v} = 0 \\Rightarrow u \\perp v$"
   ]
  },
  {
   "cell_type": "markdown",
   "metadata": {},
   "source": [
    "Módulo ou norma de um vetor"
   ]
  },
  {
   "cell_type": "markdown",
   "metadata": {},
   "source": [
    "$|\\mathbf{v}| = \\sqrt{\\mathbf{v} \\cdot \\mathbf{v}}= \\sqrt{x_1x_1+y_1y_1} = \\sqrt{x_1^2+y_1^2}$ <br>\n",
    "$|\\mathbf{v}| = \\sqrt{x_1^2+y_1^2+z_1^2}$"
   ]
  },
  {
   "cell_type": "code",
   "execution_count": 10,
   "metadata": {},
   "outputs": [],
   "source": [
    "u = np.array([3,-4])"
   ]
  },
  {
   "cell_type": "code",
   "execution_count": 11,
   "metadata": {},
   "outputs": [
    {
     "data": {
      "text/plain": [
       "5.0"
      ]
     },
     "execution_count": 11,
     "metadata": {},
     "output_type": "execute_result"
    }
   ],
   "source": [
    "np.sqrt(np.inner(u, u))"
   ]
  },
  {
   "cell_type": "markdown",
   "metadata": {},
   "source": [
    "Generalizando para o $\\mathbb{R}^n$ podemos definir todas as operações anteriores."
   ]
  },
  {
   "cell_type": "markdown",
   "metadata": {},
   "source": [
    "$\\mathbf{x} = \\left[\n",
    "\\begin{array}{c c c}\n",
    "x_1\\\\\n",
    "x_2\\\\\n",
    "\\vdots\\\\\n",
    "x_n\\\\\n",
    "\\end{array}\\right]\n",
    "$$ $"
   ]
  },
  {
   "cell_type": "markdown",
   "metadata": {},
   "source": [
    "$\\mathbf{x} \\in \\mathbb{R}^n$"
   ]
  },
  {
   "cell_type": "markdown",
   "metadata": {},
   "source": [
    "# 2. Matriz"
   ]
  },
  {
   "cell_type": "markdown",
   "metadata": {},
   "source": [
    "* representação tabular de dados;\n",
    "* notação: $A_{m \\times n}$."
   ]
  },
  {
   "cell_type": "markdown",
   "metadata": {},
   "source": [
    "$$A= \\left[\n",
    "\\begin{array}{c c c}\n",
    "a_{11}&\\ldots& a_{1n}\\\\\n",
    "a_{21}& \\ldots& a_{2n}\\\\\n",
    "\\vdots&\\ddots &\\vdots\\\\ a_{m1}&\\ldots& a_{mn}\n",
    "\\end{array}\\right]\n",
    "$$ "
   ]
  },
  {
   "cell_type": "code",
   "execution_count": 12,
   "metadata": {},
   "outputs": [],
   "source": [
    "import numpy as np"
   ]
  },
  {
   "cell_type": "markdown",
   "metadata": {},
   "source": [
    "$$A_{2 \\times 2}= \\left[\n",
    "\\begin{array}{c c c}\n",
    "-11& 2\\\\\n",
    "7& 15\\\\\n",
    "\\end{array}\\right]\n",
    "$$ "
   ]
  },
  {
   "cell_type": "code",
   "execution_count": 13,
   "metadata": {},
   "outputs": [],
   "source": [
    "matrix = np.array([[-11, 2], [7, 15]])"
   ]
  },
  {
   "cell_type": "code",
   "execution_count": 14,
   "metadata": {},
   "outputs": [
    {
     "data": {
      "text/plain": [
       "array([[-11,   2],\n",
       "       [  7,  15]])"
      ]
     },
     "execution_count": 14,
     "metadata": {},
     "output_type": "execute_result"
    }
   ],
   "source": [
    "matrix"
   ]
  },
  {
   "cell_type": "code",
   "execution_count": 15,
   "metadata": {},
   "outputs": [
    {
     "data": {
      "text/plain": [
       "numpy.ndarray"
      ]
     },
     "execution_count": 15,
     "metadata": {},
     "output_type": "execute_result"
    }
   ],
   "source": [
    "type(matrix)"
   ]
  },
  {
   "cell_type": "code",
   "execution_count": 16,
   "metadata": {},
   "outputs": [
    {
     "data": {
      "text/plain": [
       "(2, 2)"
      ]
     },
     "execution_count": 16,
     "metadata": {},
     "output_type": "execute_result"
    }
   ],
   "source": [
    "matrix.shape"
   ]
  },
  {
   "cell_type": "code",
   "execution_count": 17,
   "metadata": {},
   "outputs": [
    {
     "data": {
      "text/plain": [
       "2"
      ]
     },
     "execution_count": 17,
     "metadata": {},
     "output_type": "execute_result"
    }
   ],
   "source": [
    "matrix.ndim  #número de dimensões"
   ]
  },
  {
   "cell_type": "markdown",
   "metadata": {},
   "source": [
    "### 2.1 Matrizes importantes"
   ]
  },
  {
   "cell_type": "markdown",
   "metadata": {},
   "source": [
    "1. Matriz Quadrada: matriz em que o número de linhas é igual ao número de colunas ($m=n$)."
   ]
  },
  {
   "cell_type": "markdown",
   "metadata": {},
   "source": [
    "$$A_{2 \\times 2}= \\left[\n",
    "\\begin{array}{c c c}\n",
    "-1& 2\\\\\n",
    "4& 5\\\\\n",
    "\\end{array}\\right]\n",
    "$$ "
   ]
  },
  {
   "cell_type": "code",
   "execution_count": 18,
   "metadata": {},
   "outputs": [],
   "source": [
    "A = np.array([[-1, 2], [4, 5]])"
   ]
  },
  {
   "cell_type": "code",
   "execution_count": 19,
   "metadata": {},
   "outputs": [
    {
     "data": {
      "text/plain": [
       "array([[-1,  2],\n",
       "       [ 4,  5]])"
      ]
     },
     "execution_count": 19,
     "metadata": {},
     "output_type": "execute_result"
    }
   ],
   "source": [
    "A"
   ]
  },
  {
   "cell_type": "markdown",
   "metadata": {},
   "source": [
    "2. Matriz Nula: matriz em que todos os elementos são nulos, ou seja, $a_{ij}=0$ para todo $i$ e $j$."
   ]
  },
  {
   "cell_type": "markdown",
   "metadata": {},
   "source": [
    "$$B_{2 \\times 3}= \\left[\n",
    "\\begin{array}{c c c}\n",
    "0& 0 & 0\\\\\n",
    "0& 0 & 0\\\\\n",
    "\\end{array}\\right]\n",
    "$$ "
   ]
  },
  {
   "cell_type": "code",
   "execution_count": 20,
   "metadata": {},
   "outputs": [
    {
     "data": {
      "text/plain": [
       "array([[0, 0, 0],\n",
       "       [0, 0, 0]])"
      ]
     },
     "execution_count": 20,
     "metadata": {},
     "output_type": "execute_result"
    }
   ],
   "source": [
    "B = np.array([[0, 0, 0], [0, 0, 0]])\n",
    "B"
   ]
  },
  {
   "cell_type": "code",
   "execution_count": 21,
   "metadata": {},
   "outputs": [
    {
     "data": {
      "text/plain": [
       "array([[0., 0., 0.],\n",
       "       [0., 0., 0.]])"
      ]
     },
     "execution_count": 21,
     "metadata": {},
     "output_type": "execute_result"
    }
   ],
   "source": [
    "B = np.zeros(shape = (2, 3))\n",
    "B"
   ]
  },
  {
   "cell_type": "code",
   "execution_count": 22,
   "metadata": {},
   "outputs": [
    {
     "data": {
      "text/plain": [
       "array([[0., 0., 0., 0., 0., 0., 0., 0., 0., 0.],\n",
       "       [0., 0., 0., 0., 0., 0., 0., 0., 0., 0.],\n",
       "       [0., 0., 0., 0., 0., 0., 0., 0., 0., 0.],\n",
       "       [0., 0., 0., 0., 0., 0., 0., 0., 0., 0.],\n",
       "       [0., 0., 0., 0., 0., 0., 0., 0., 0., 0.],\n",
       "       [0., 0., 0., 0., 0., 0., 0., 0., 0., 0.],\n",
       "       [0., 0., 0., 0., 0., 0., 0., 0., 0., 0.],\n",
       "       [0., 0., 0., 0., 0., 0., 0., 0., 0., 0.],\n",
       "       [0., 0., 0., 0., 0., 0., 0., 0., 0., 0.],\n",
       "       [0., 0., 0., 0., 0., 0., 0., 0., 0., 0.]])"
      ]
     },
     "execution_count": 22,
     "metadata": {},
     "output_type": "execute_result"
    }
   ],
   "source": [
    "K = np.zeros(shape = (10, 10))\n",
    "K"
   ]
  },
  {
   "cell_type": "markdown",
   "metadata": {},
   "source": [
    "3. Matriz-Coluna: matriz que possui uma única coluna ($A_{m \\times 1}$)."
   ]
  },
  {
   "cell_type": "markdown",
   "metadata": {},
   "source": [
    "$$C_{4 \\times 1}= \\left[\n",
    "\\begin{array}{c c c}\n",
    "-1\\\\\n",
    "2\\\\\n",
    "10\\\\\n",
    "5\\\\\n",
    "\\end{array}\\right]\n",
    "$$ "
   ]
  },
  {
   "cell_type": "code",
   "execution_count": 23,
   "metadata": {},
   "outputs": [
    {
     "data": {
      "text/plain": [
       "array([[-1],\n",
       "       [ 2],\n",
       "       [10],\n",
       "       [ 5]])"
      ]
     },
     "execution_count": 23,
     "metadata": {},
     "output_type": "execute_result"
    }
   ],
   "source": [
    "C = np.array([[-1], [2], [10], [5]])\n",
    "C"
   ]
  },
  {
   "cell_type": "markdown",
   "metadata": {},
   "source": [
    "4. Matriz-Linha: matriz com uma única linha ($A_{1 \\times n}$)"
   ]
  },
  {
   "cell_type": "markdown",
   "metadata": {},
   "source": [
    "$$D_{4 \\times 1}= \\left[\n",
    "\\begin{array}{c c c}\n",
    "-1 & 2 & 10 & 5\\\\\n",
    "\\end{array}\\right]\n",
    "$$ "
   ]
  },
  {
   "cell_type": "code",
   "execution_count": 24,
   "metadata": {},
   "outputs": [
    {
     "data": {
      "text/plain": [
       "array([-1,  2, 10,  5])"
      ]
     },
     "execution_count": 24,
     "metadata": {},
     "output_type": "execute_result"
    }
   ],
   "source": [
    "D = np.array([-1, 2, 10, 5])\n",
    "D"
   ]
  },
  {
   "cell_type": "markdown",
   "metadata": {},
   "source": [
    "5. Matriz diagonal: matriz quadrada em que qualquer elemento fora da diagonal principal é nulo, isto é, $a_{ij}=0$ para $ i \\neq j$.<br>"
   ]
  },
  {
   "cell_type": "markdown",
   "metadata": {},
   "source": [
    "$$E_{3 \\times 3}= \\left[\n",
    "\\begin{array}{c c c}\n",
    "5 & 0 & 0\\\\\n",
    "0 & 10 & 0\\\\\n",
    "0 & 0 & 15\\\\\n",
    "\\end{array}\\right]\n",
    "$$ "
   ]
  },
  {
   "cell_type": "code",
   "execution_count": 25,
   "metadata": {},
   "outputs": [
    {
     "data": {
      "text/plain": [
       "array([[ 5,  0,  0],\n",
       "       [ 0, 10,  0],\n",
       "       [ 0,  0, 15]])"
      ]
     },
     "execution_count": 25,
     "metadata": {},
     "output_type": "execute_result"
    }
   ],
   "source": [
    "E = np.diag(np.arange(5,16,5))\n",
    "E"
   ]
  },
  {
   "cell_type": "markdown",
   "metadata": {},
   "source": [
    "5. Matriz identidade: matriz em que $a_{ij}=1$ ,  $\\forall i=j$ e $a_{ij}=0$, $\\forall i \\neq j$. Assim, a matriz identidade, ou matriz unitária, de ordem $n$, denotada por $I{_n}$ ou, simplesmente, por $I$, é a matriz quadrada\n",
    "com 1 na diagonal principal e 0 em todas as demais entradas. A matriz identidade $I$ é análoga ao escalar $1$, pois,\n",
    "dada qualquer matriz $A_{m \\times n}$, temos que $\\mathbf{AI =IA = A}$. Para uma matriz $B_{n \\times 1}$, verifica-se $\\mathbf{IB=B}$"
   ]
  },
  {
   "cell_type": "markdown",
   "metadata": {},
   "source": [
    "$$I_{3}= \\left[\n",
    "\\begin{array}{c c c}\n",
    "1 & 0 & 0\\\\\n",
    "0 & 1 & 0\\\\\n",
    "0 & 0 & 1\\\\\n",
    "\\end{array}\\right]\n",
    "$$ "
   ]
  },
  {
   "cell_type": "code",
   "execution_count": 26,
   "metadata": {},
   "outputs": [
    {
     "data": {
      "text/plain": [
       "array([[1., 0., 0.],\n",
       "       [0., 1., 0.],\n",
       "       [0., 0., 1.]])"
      ]
     },
     "execution_count": 26,
     "metadata": {},
     "output_type": "execute_result"
    }
   ],
   "source": [
    "I = np.eye(3)\n",
    "I"
   ]
  },
  {
   "cell_type": "code",
   "execution_count": 27,
   "metadata": {},
   "outputs": [
    {
     "data": {
      "text/plain": [
       "array([[1., 0., 0.],\n",
       "       [0., 1., 0.],\n",
       "       [0., 0., 1.]])"
      ]
     },
     "execution_count": 27,
     "metadata": {},
     "output_type": "execute_result"
    }
   ],
   "source": [
    "I = np.identity(3)\n",
    "I"
   ]
  },
  {
   "cell_type": "markdown",
   "metadata": {},
   "source": [
    "8. Matriz simétrica: matriz quadrada em que $a_{ij} = a_{ji}$ para quaisquer $i,j$ e $A^{T} = A$."
   ]
  },
  {
   "cell_type": "markdown",
   "metadata": {},
   "source": [
    "$$F_{3 \\times 3} = \\left[\n",
    "\\begin{array}{c c c}\n",
    "4 & 3 & -1\\\\\n",
    "3 & 2 & 0\\\\\n",
    "-1 & 0 & 5\\\\\n",
    "\\end{array}\\right]\n",
    "$$ "
   ]
  },
  {
   "cell_type": "code",
   "execution_count": 28,
   "metadata": {},
   "outputs": [
    {
     "data": {
      "text/plain": [
       "array([[ 4,  3, -1],\n",
       "       [ 3,  2,  0],\n",
       "       [-1,  0,  5]])"
      ]
     },
     "execution_count": 28,
     "metadata": {},
     "output_type": "execute_result"
    }
   ],
   "source": [
    "F = np.array([[4, 3, -1], [3, 2, 0], [-1, 0, 5]])\n",
    "F"
   ]
  },
  {
   "cell_type": "code",
   "execution_count": 29,
   "metadata": {},
   "outputs": [
    {
     "data": {
      "text/plain": [
       "array([[ True,  True,  True],\n",
       "       [ True,  True,  True],\n",
       "       [ True,  True,  True]])"
      ]
     },
     "execution_count": 29,
     "metadata": {},
     "output_type": "execute_result"
    }
   ],
   "source": [
    "F.T == F"
   ]
  },
  {
   "cell_type": "markdown",
   "metadata": {},
   "source": [
    "9. Matriz Idempotente: matriz quadrada em que $A \\cdot A = A$ ."
   ]
  },
  {
   "cell_type": "markdown",
   "metadata": {},
   "source": [
    "$$L_{2 \\times 2}= \\left[\n",
    "\\begin{array}{c c c}\n",
    "5& -5\\\\\n",
    "4& -4\\\\\n",
    "\\end{array}\\right]\n",
    "$$ "
   ]
  },
  {
   "cell_type": "code",
   "execution_count": 30,
   "metadata": {},
   "outputs": [
    {
     "data": {
      "text/plain": [
       "array([[ 5, -5],\n",
       "       [ 4, -4]])"
      ]
     },
     "execution_count": 30,
     "metadata": {},
     "output_type": "execute_result"
    }
   ],
   "source": [
    "L = np.array([[5, -5], [4, -4]])\n",
    "L"
   ]
  },
  {
   "cell_type": "code",
   "execution_count": 31,
   "metadata": {},
   "outputs": [
    {
     "data": {
      "text/plain": [
       "array([[ 5, -5],\n",
       "       [ 4, -4]])"
      ]
     },
     "execution_count": 31,
     "metadata": {},
     "output_type": "execute_result"
    }
   ],
   "source": [
    "np.dot(L, L)"
   ]
  },
  {
   "cell_type": "markdown",
   "metadata": {},
   "source": [
    "### 2.2 Operações matriciais"
   ]
  },
  {
   "cell_type": "markdown",
   "metadata": {},
   "source": [
    "2.2.1 Adição e multiplicação por escalar"
   ]
  },
  {
   "cell_type": "markdown",
   "metadata": {},
   "source": [
    "* As matrizes precisam ter a mesma ordem."
   ]
  },
  {
   "cell_type": "markdown",
   "metadata": {},
   "source": [
    "$$A_{2 \\times 2}= \\left[\n",
    "\\begin{array}{c c c}\n",
    "1& 3\\\\\n",
    "2& 7\\\\\n",
    "\\end{array}\\right]\n",
    "$$ \n",
    "$$B_{2 \\times 2}= \\left[\n",
    "\\begin{array}{c c c}\n",
    "2& 5\\\\\n",
    "5& 3\\\\\n",
    "\\end{array}\\right]\n",
    "$$ "
   ]
  },
  {
   "cell_type": "markdown",
   "metadata": {},
   "source": [
    "$$A+B = \\left[\n",
    "\\begin{array}{c c c}\n",
    "1+2& 3+5\\\\\n",
    "2+5& 7+3\\\\\n",
    "\\end{array}\\right]\n",
    "$$ \n",
    "$$\n",
    "A+B =\n",
    "\\left[\n",
    "\\begin{array}{c c c}\n",
    "3& 8\\\\\n",
    "7& 10\\\\\n",
    "\\end{array}\\right]\n",
    "$$"
   ]
  },
  {
   "cell_type": "code",
   "execution_count": 32,
   "metadata": {},
   "outputs": [
    {
     "data": {
      "text/plain": [
       "array([[ 3,  8],\n",
       "       [ 7, 10]])"
      ]
     },
     "execution_count": 32,
     "metadata": {},
     "output_type": "execute_result"
    }
   ],
   "source": [
    "A = np.array([[1, 3], [2, 7]])\n",
    "B = np.array([[2, 5], [5, 3]])\n",
    "soma = A+B\n",
    "soma"
   ]
  },
  {
   "cell_type": "markdown",
   "metadata": {},
   "source": [
    "Generalizando:"
   ]
  },
  {
   "cell_type": "markdown",
   "metadata": {},
   "source": [
    " $$A+B =\\left[\n",
    "\\begin{array}{c c c}\n",
    "a_{11}+ b_{11}&\\ldots& a_{1n}+b_{1n}\\\\\n",
    "a_{21}+b_{21}& \\ldots& a_{2n}+b_{2n}\\\\\n",
    "\\vdots&\\ddots &\\vdots\\\\ a_{m1}+b_{m1}&\\ldots& a_{mn}+ b_{mn}\n",
    "\\end{array}\\right]\n",
    "$$"
   ]
  },
  {
   "cell_type": "markdown",
   "metadata": {},
   "source": [
    "Produto por escalar"
   ]
  },
  {
   "cell_type": "markdown",
   "metadata": {},
   "source": [
    "$$10A_{2 \\times 2}= \\left[\n",
    "\\begin{array}{c c c}\n",
    "10 \\times 1& 10 \\times 3\\\\\n",
    "10 \\times 2& 10 \\times7\\\\\n",
    "\\end{array}\\right]\n",
    "$$"
   ]
  },
  {
   "cell_type": "code",
   "execution_count": 33,
   "metadata": {},
   "outputs": [
    {
     "data": {
      "text/plain": [
       "array([[10, 30],\n",
       "       [20, 70]])"
      ]
     },
     "execution_count": 33,
     "metadata": {},
     "output_type": "execute_result"
    }
   ],
   "source": [
    "10*A"
   ]
  },
  {
   "cell_type": "markdown",
   "metadata": {},
   "source": [
    "Generalizando:"
   ]
  },
  {
   "cell_type": "markdown",
   "metadata": {},
   "source": [
    "$$kA=\\left[ \n",
    "\\begin{array}{c c c}\n",
    "ka_{11}&\\ldots& ka_{1n}\\\\\n",
    "ka_{21}& \\ldots& ka_{2n}\\\\\n",
    "\\vdots&\\ddots &\\vdots\\\\ ka_{m1}&\\ldots& ka_{mn}\n",
    "\\end{array}\\right]\n",
    "$$"
   ]
  },
  {
   "cell_type": "markdown",
   "metadata": {},
   "source": [
    "2.2.2 Multiplicação de matrizes"
   ]
  },
  {
   "cell_type": "markdown",
   "metadata": {},
   "source": [
    "* Multiplicação entre uma matriz linha e uma matriz coluna"
   ]
  },
  {
   "cell_type": "markdown",
   "metadata": {},
   "source": [
    "$\\begin{bmatrix}\n",
    "1 & 5 & 10 \\\\\n",
    "\\end{bmatrix} $$\\begin{bmatrix}\n",
    "2 \\\\ \n",
    "3 \\\\   \n",
    "2\\\\\n",
    "\\end{bmatrix}$ $= $$1 \\times 2 + 5 \\times 3 + 10 \\times 2 = 37 $."
   ]
  },
  {
   "cell_type": "code",
   "execution_count": 34,
   "metadata": {},
   "outputs": [],
   "source": [
    "u = np.array([1, 5, 10])\n",
    "v = np.array([[2], [3], [2]])"
   ]
  },
  {
   "cell_type": "code",
   "execution_count": 35,
   "metadata": {},
   "outputs": [
    {
     "data": {
      "text/plain": [
       "array([ 1,  5, 10])"
      ]
     },
     "execution_count": 35,
     "metadata": {},
     "output_type": "execute_result"
    }
   ],
   "source": [
    "u"
   ]
  },
  {
   "cell_type": "code",
   "execution_count": 36,
   "metadata": {},
   "outputs": [
    {
     "data": {
      "text/plain": [
       "array([[2],\n",
       "       [3],\n",
       "       [2]])"
      ]
     },
     "execution_count": 36,
     "metadata": {},
     "output_type": "execute_result"
    }
   ],
   "source": [
    "v"
   ]
  },
  {
   "cell_type": "code",
   "execution_count": 37,
   "metadata": {},
   "outputs": [
    {
     "data": {
      "text/plain": [
       "array([37])"
      ]
     },
     "execution_count": 37,
     "metadata": {},
     "output_type": "execute_result"
    }
   ],
   "source": [
    "np.dot(u,v)"
   ]
  },
  {
   "cell_type": "markdown",
   "metadata": {},
   "source": [
    "Generalizando:"
   ]
  },
  {
   "cell_type": "markdown",
   "metadata": {},
   "source": [
    " AB= $\\begin{bmatrix}\n",
    "a_{1}, & a_{2}, & ...,&a_{n}\\\\\n",
    "\\end{bmatrix} $$\\begin{bmatrix}\n",
    "b_{1} \\\\ \n",
    "b_{2} \\\\ \n",
    "... \\\\  \n",
    "b_{n}\\\\\n",
    "\\end{bmatrix}$ $= $$a_{1}b_{1}$+$ $$a_{2}b_{2}$$+$ ... $+$$a_{n}b_{n}$."
   ]
  },
  {
   "cell_type": "markdown",
   "metadata": {},
   "source": [
    "* Caso geral de multiplicação de matrizes"
   ]
  },
  {
   "cell_type": "markdown",
   "metadata": {},
   "source": [
    "$A_{m \\times p} \\cdot B_{p \\times n} = C_{m \\times n}$"
   ]
  },
  {
   "cell_type": "markdown",
   "metadata": {},
   "source": [
    "O elemento $c_{ij}$ será obtido por meio da multiplicação dos elementos da i-ésima linha da primeira matriz pelos correspondentes elementos da j-ésima coluna da segunda matriz, com a posterior soma destes produtos."
   ]
  },
  {
   "cell_type": "markdown",
   "metadata": {},
   "source": [
    "$\\left[\n",
    "\\begin{array}{c c c}\n",
    "2 & 1\\\\\n",
    "4 & 2\\\\\n",
    "5 & 3\\\\\n",
    "\\end{array}\\right]_{3 \\times 2}\n",
    "$ $\\cdot \\left[\n",
    "\\begin{array}{c c c}\n",
    "1 & -1\\\\\n",
    "0 & 4\\\\\n",
    "\\end{array}\\right]_{2 \\times 2}$ \n",
    "$ = \\left[\n",
    "\\begin{array}{c c c}\n",
    "2 \\times 1+1\\times 0 & 2 \\times (-1)+1 \\times 4 \\\\\n",
    "4 \\times 1+ 2 \\times 0 & 4 \\times(-1)+2 \\times 4\\\\\n",
    "5 \\times 1+3 \\times 0 & 5 \\times (-1) +3 \\times 4\n",
    "\\end{array}\\right]_{3 \\times 2} \n",
    "$ \n",
    "$ = \\left[\n",
    "\\begin{array}{c c c}\n",
    "2 & 2 \\\\\n",
    "4 & 4 \\\\\n",
    "5 & 7 \\\\\n",
    "\\end{array}\\right]_{3 \\times 2} \n",
    "$ "
   ]
  },
  {
   "cell_type": "code",
   "execution_count": 38,
   "metadata": {},
   "outputs": [
    {
     "data": {
      "text/plain": [
       "array([[2, 2],\n",
       "       [4, 4],\n",
       "       [5, 7]])"
      ]
     },
     "execution_count": 38,
     "metadata": {},
     "output_type": "execute_result"
    }
   ],
   "source": [
    "A = np.array([[2, 1], [4, 2], [5, 3]])\n",
    "B = np.array([[1, -1], [0, 4]])\n",
    "C = np.dot(A,B)\n",
    "C"
   ]
  },
  {
   "cell_type": "markdown",
   "metadata": {},
   "source": [
    "### 2.3 Matriz transposta"
   ]
  },
  {
   "cell_type": "markdown",
   "metadata": {},
   "source": [
    "A transposta de uma matriz A, denotada por $A^{T}$ ou $A' $, é a matriz obtida escrevendo as colunas de A, na mesma ordem, como linhas."
   ]
  },
  {
   "cell_type": "markdown",
   "metadata": {},
   "source": [
    "$$A= \\left[\n",
    "\\begin{array}{c c c}\n",
    "1& 7\\\\\n",
    "8& 3\\\\\n",
    "1 & 2\\\\\n",
    "\\end{array}\\right]\n",
    "$$ "
   ]
  },
  {
   "cell_type": "markdown",
   "metadata": {},
   "source": [
    "$$A^{T}= \\left[\n",
    "\\begin{array}{c c c}\n",
    "1& 8 & 1\\\\\n",
    "7& 3 & 2\\\\\n",
    "\\end{array}\\right]\n",
    "$$ "
   ]
  },
  {
   "cell_type": "code",
   "execution_count": 39,
   "metadata": {},
   "outputs": [
    {
     "data": {
      "text/plain": [
       "array([[1, 7],\n",
       "       [8, 3],\n",
       "       [1, 2]])"
      ]
     },
     "execution_count": 39,
     "metadata": {},
     "output_type": "execute_result"
    }
   ],
   "source": [
    "A = np.array([[1, 7], [8, 3], [1, 2]])\n",
    "A"
   ]
  },
  {
   "cell_type": "code",
   "execution_count": 40,
   "metadata": {},
   "outputs": [
    {
     "data": {
      "text/plain": [
       "array([[1, 8, 1],\n",
       "       [7, 3, 2]])"
      ]
     },
     "execution_count": 40,
     "metadata": {},
     "output_type": "execute_result"
    }
   ],
   "source": [
    "A.T"
   ]
  },
  {
   "cell_type": "code",
   "execution_count": 41,
   "metadata": {},
   "outputs": [
    {
     "data": {
      "text/plain": [
       "array([[1, 8, 1],\n",
       "       [7, 3, 2]])"
      ]
     },
     "execution_count": 41,
     "metadata": {},
     "output_type": "execute_result"
    }
   ],
   "source": [
    "A.transpose()"
   ]
  },
  {
   "cell_type": "markdown",
   "metadata": {},
   "source": [
    "### 2.4 Traço de uma matriz"
   ]
  },
  {
   "cell_type": "markdown",
   "metadata": {},
   "source": [
    "O traço de uma matriz quadrada A, denotado por tr(A), é a soma dos elementos da diagonal principal, a saber, $ tr\\mathbf{(A)}= a_{11}+a_{22}+a_{33}+...+a_{nn}$"
   ]
  },
  {
   "cell_type": "markdown",
   "metadata": {},
   "source": [
    "$$A= \\left[\n",
    "\\begin{array}{c c c}\n",
    "2& 7 & 1\\\\\n",
    "8& 3 & 2\\\\\n",
    "1 & 2 & 10\\\\\n",
    "\\end{array}\\right]\n",
    "$$ "
   ]
  },
  {
   "cell_type": "code",
   "execution_count": 42,
   "metadata": {},
   "outputs": [
    {
     "data": {
      "text/plain": [
       "15"
      ]
     },
     "execution_count": 42,
     "metadata": {},
     "output_type": "execute_result"
    }
   ],
   "source": [
    "A = np.array([[2, 7, 1], [8, 3, 2], [1, 2, 10]])\n",
    "A.trace()"
   ]
  },
  {
   "cell_type": "markdown",
   "metadata": {},
   "source": [
    "### 2.5 Matriz Inversa"
   ]
  },
  {
   "cell_type": "markdown",
   "metadata": {},
   "source": [
    "Uma matriz quadrada $A$ é dita invertível, ou não singular, se existir uma matriz $B$ tal que\n",
    "$AB = BA = I$ onde $I$ é a matriz identidade. Uma tal matriz $B$ é única. "
   ]
  },
  {
   "cell_type": "code",
   "execution_count": 43,
   "metadata": {},
   "outputs": [],
   "source": [
    "Z = np.array([[3,4],[1,0]])\n",
    "Z_inv = np.linalg.inv(Z)"
   ]
  },
  {
   "cell_type": "code",
   "execution_count": 44,
   "metadata": {},
   "outputs": [
    {
     "data": {
      "text/plain": [
       "array([[ 0.  ,  1.  ],\n",
       "       [ 0.25, -0.75]])"
      ]
     },
     "execution_count": 44,
     "metadata": {},
     "output_type": "execute_result"
    }
   ],
   "source": [
    "Z_inv"
   ]
  },
  {
   "cell_type": "code",
   "execution_count": 45,
   "metadata": {},
   "outputs": [
    {
     "data": {
      "text/plain": [
       "array([[1., 0.],\n",
       "       [0., 1.]])"
      ]
     },
     "execution_count": 45,
     "metadata": {},
     "output_type": "execute_result"
    }
   ],
   "source": [
    "Z.dot(Z_inv)"
   ]
  },
  {
   "cell_type": "markdown",
   "metadata": {},
   "source": [
    "# 3. Sistemas Lineares"
   ]
  },
  {
   "cell_type": "markdown",
   "metadata": {},
   "source": [
    "* Um sistema linear pode ter uma única solução, múltiplas soluções ou nenhuma solução."
   ]
  },
  {
   "cell_type": "markdown",
   "metadata": {},
   "source": [
    "$\\begin{cases}\n",
    "a_{11}x_{1}+a_{12}x_{2}+...+a_{1n}x_{n}=b_{1} \\\\\n",
    "a_{21}x_{1}+a_{22}x_{2}+...+a_{2n}x_{n}=b_{2} \\\\\n",
    "..............................\\\\\n",
    "a_{m1}x_{1}+a_{m2}x_{2}+...+a_{mn}x_{n}=b_{m}\\\\\n",
    "\\end{cases}$ em que $a_{11}, a_{12},..., a_{1n}, b_{1}, b_{2}, ..., b_{m}$"
   ]
  },
  {
   "cell_type": "markdown",
   "metadata": {},
   "source": [
    "Desse sistema, destacamos as seguintes matrizes:\n",
    "- matriz completa do sistema \n",
    "$\\begin{bmatrix}\n",
    "a_{11} & a_{12} & ... & a_{1n} &b_{1}\\\\\n",
    "a_{21} & a_{22} & ... & a_{2n} & b_{2}\\\\\n",
    "... & ... & ... & ...&....\\\\\n",
    "a_{n1} & a_{n2} & ... & a_{nn}&b_{1m}\\\\\n",
    "\\end{bmatrix}$\n",
    "\n",
    "\n",
    "- matriz incompleta do sistema \n",
    "$\\begin{bmatrix}\n",
    "a_{11} & a_{12} & ... & a_{1n}\\\\\n",
    "a_{21} & a_{22} & ... & a_{2n}\\\\\n",
    "... & ... & ... & ...\\\\\n",
    "a_{n1} & a_{n2} & ... & a_{nn}\\\\\n",
    "\\end{bmatrix}$\n",
    "\n",
    "Consideremos ainda as seguintes matrizes-colunas assosciadas ao sistema:\n",
    "X = $\\begin{bmatrix}\n",
    "x_{1} \\\\\n",
    "x_{2} \\\\\n",
    "\\vdots\\\\\n",
    "x_{n}\\\\\n",
    "\\end{bmatrix}$    $\\space$, B = $\\begin{bmatrix}\n",
    "b_{1} \\\\\n",
    "b_{2} \\\\\n",
    "\\vdots\\\\\n",
    "b_{m}\\\\\n",
    "\\end{bmatrix}$"
   ]
  },
  {
   "cell_type": "markdown",
   "metadata": {},
   "source": [
    "$$\\begin{bmatrix}\n",
    "a_{11} & a_{12} & ... & a_{1n}\\\\\n",
    "a_{21} & a_{22} & ... & a_{2n}\\\\\n",
    "... & ... & ... & ...\\\\\n",
    "a_{n1} & a_{n2} & ... & a_{nn}\\\\\n",
    "\\end{bmatrix}\\cdot \\begin{bmatrix}\n",
    "x_{1} \\\\\n",
    "x_{2} \\\\\n",
    "\\vdots\\\\\n",
    "x_{n}\\\\\n",
    "\\end{bmatrix}=\\begin{bmatrix}\n",
    "b_{1} \\\\\n",
    "b_{2} \\\\\n",
    "\\vdots\\\\\n",
    "b_{m}\\\\\n",
    "\\end{bmatrix}$$"
   ]
  },
  {
   "cell_type": "markdown",
   "metadata": {},
   "source": [
    "Representemos o sistema $\\begin{cases}\n",
    "3a-7b=1\\\\\n",
    "5a+2b=4 \\\\\n",
    "\\end{cases}$ na forma matricial e encontremos sua solução."
   ]
  },
  {
   "cell_type": "code",
   "execution_count": 46,
   "metadata": {},
   "outputs": [],
   "source": [
    "A = np.array ([[3, -7], [5, 2]])\n",
    "B = np.array([[1], [4]])"
   ]
  },
  {
   "cell_type": "code",
   "execution_count": 47,
   "metadata": {},
   "outputs": [],
   "source": [
    "X = (np.linalg.solve(A, B))"
   ]
  },
  {
   "cell_type": "code",
   "execution_count": 48,
   "metadata": {},
   "outputs": [
    {
     "data": {
      "text/plain": [
       "array([[0.73170732],\n",
       "       [0.17073171]])"
      ]
     },
     "execution_count": 48,
     "metadata": {},
     "output_type": "execute_result"
    }
   ],
   "source": [
    "X  #solução do sistema"
   ]
  },
  {
   "cell_type": "markdown",
   "metadata": {},
   "source": [
    "# 4. Determinante"
   ]
  },
  {
   "cell_type": "markdown",
   "metadata": {},
   "source": [
    "Podemos pensar no determinante como um número associado a uma matriz quadrada $A_{m \\times n}$. Denotamos $\\det A$."
   ]
  },
  {
   "cell_type": "markdown",
   "metadata": {},
   "source": [
    "Dada a matriz V = $\\begin{bmatrix}\n",
    "1 & 2 & 3 & 4\\\\\n",
    "4& 3 & 2 & 1\\\\\n",
    "0 & 2 & 4  & 6 \\\\\n",
    " 5 & 7 & 9 & 11 \\\\\n",
    "\\end{bmatrix}$ encontremos det (V)."
   ]
  },
  {
   "cell_type": "markdown",
   "metadata": {},
   "source": [
    "Basta utilizar a função np.linalg.det()"
   ]
  },
  {
   "cell_type": "code",
   "execution_count": 49,
   "metadata": {},
   "outputs": [],
   "source": [
    "V=np.array([[1, 2, 3, 4], [4, 3, 1, 1], [0, 2, 4, 6], [5, 7, 9, 1]])"
   ]
  },
  {
   "cell_type": "code",
   "execution_count": 50,
   "metadata": {},
   "outputs": [
    {
     "data": {
      "text/plain": [
       "-20"
      ]
     },
     "execution_count": 50,
     "metadata": {},
     "output_type": "execute_result"
    }
   ],
   "source": [
    "round (np.linalg.det(V))"
   ]
  },
  {
   "cell_type": "markdown",
   "metadata": {},
   "source": [
    "# 5. Produto interno"
   ]
  },
  {
   "cell_type": "markdown",
   "metadata": {},
   "source": [
    "Produto interno canônico:"
   ]
  },
  {
   "cell_type": "markdown",
   "metadata": {},
   "source": [
    "$\\mathbf{x} = \\left(x_1, x_2, \\dots, x_n \\right)$<br>\n",
    "$\\mathbf{y} = \\left(y_1, y_2, \\dots, y_n \\right)$"
   ]
  },
  {
   "cell_type": "markdown",
   "metadata": {},
   "source": [
    "$\\left \\langle \\mathbf{x}, \\mathbf{y} \\right \\rangle = x_1y_1+x_2y_2+x_3y_3+ \\dots x_ny_n$"
   ]
  },
  {
   "cell_type": "code",
   "execution_count": 51,
   "metadata": {},
   "outputs": [],
   "source": [
    "i = np.array([1, 0, 0])\n",
    "j = np.array([0, 1, 0])\n",
    "k = np.array([0, 0, 1])"
   ]
  },
  {
   "cell_type": "code",
   "execution_count": 52,
   "metadata": {},
   "outputs": [
    {
     "data": {
      "text/plain": [
       "0"
      ]
     },
     "execution_count": 52,
     "metadata": {},
     "output_type": "execute_result"
    }
   ],
   "source": [
    "np.inner(i,j)"
   ]
  },
  {
   "cell_type": "code",
   "execution_count": 53,
   "metadata": {},
   "outputs": [
    {
     "data": {
      "text/plain": [
       "0"
      ]
     },
     "execution_count": 53,
     "metadata": {},
     "output_type": "execute_result"
    }
   ],
   "source": [
    "np.inner(j,k)"
   ]
  },
  {
   "cell_type": "markdown",
   "metadata": {},
   "source": [
    "Se dois vetores $\\mathbf{x},\\mathbf{y}$, em um dado espaço vetorial possuem produto interno nulo, então esses vetores são ortogonais."
   ]
  },
  {
   "cell_type": "markdown",
   "metadata": {},
   "source": [
    "# 6. Norma"
   ]
  },
  {
   "cell_type": "markdown",
   "metadata": {},
   "source": [
    "Seja $\\mathbf{x} \\in \\mathbb{R}^n$, o número $|\\mathbf{x}|$ é denominado norma euclidiana ou distância, tal que:\n"
   ]
  },
  {
   "cell_type": "markdown",
   "metadata": {},
   "source": [
    "$$ |\\mathbf{x}| = \\sqrt{\\left \\langle \\mathbf{x}, \\mathbf{x} \\right \\rangle } = \\sqrt{x_1^2+x_2^2+\\dots +x_n^2}$$"
   ]
  },
  {
   "cell_type": "markdown",
   "metadata": {},
   "source": [
    "# 7. Combinação Linear"
   ]
  },
  {
   "cell_type": "markdown",
   "metadata": {},
   "source": [
    "Sejam $v_1, v_2, \\dots v_n$ vetores de um espaço vetorial $V$ e os escalares reais $a_1, a_2, \\dots a_n$. Qualquer vetor $v \\in V$, tal que $v = a_1v_1+a_2v_2+a_3v_3+\\dots a_nv_n$ é uma combinação linear dos vetores $v_1, v_2, \\dots, v_n$."
   ]
  },
  {
   "cell_type": "code",
   "execution_count": 54,
   "metadata": {},
   "outputs": [],
   "source": [
    "u = np.array([1, 0])\n",
    "v = np.array([0, 1])\n",
    "w = np.array([3, 2])"
   ]
  },
  {
   "cell_type": "code",
   "execution_count": 55,
   "metadata": {},
   "outputs": [
    {
     "data": {
      "text/plain": [
       "array([3, 2])"
      ]
     },
     "execution_count": 55,
     "metadata": {},
     "output_type": "execute_result"
    }
   ],
   "source": [
    "3*u+2*v"
   ]
  },
  {
   "cell_type": "markdown",
   "metadata": {},
   "source": [
    "# <b> 8. Hands On! - Parte 1</b>"
   ]
  },
  {
   "cell_type": "markdown",
   "metadata": {},
   "source": [
    "1. Encontre WI sendo W = $\\begin{bmatrix}\n",
    "1 & 3 & 0 & 20\\\\   \n",
    "2 &-1 & 10 & 13\\\\\n",
    "3 & 4 & 10 & 0\\\\\n",
    "4 & 9 & -1 & 0 \\\\\n",
    "\\end{bmatrix}$ e I =  $\\begin{bmatrix}\n",
    "2 & 0 \\\\\n",
    "-4 & 11 \\\\\n",
    "5 &-2 \\\\\n",
    " 6 & 0 \\\\\n",
    "\\end{bmatrix}$"
   ]
  },
  {
   "cell_type": "markdown",
   "metadata": {},
   "source": [
    "2. Construa uma matriz $5 \\times 5$ e encontre traço, diagonal principal e secundária. "
   ]
  },
  {
   "cell_type": "markdown",
   "metadata": {},
   "source": [
    "3. Crie uma matriz $2 \\times 2$ somente com elementos pares e calcule seu determinante."
   ]
  },
  {
   "cell_type": "markdown",
   "metadata": {},
   "source": [
    "4. Represente os sistemas abaixo  na forma matricial e encontre as respectivas soluções.\n",
    "\n",
    "a) $\\begin{cases}\n",
    "2x+y=5\\\\\n",
    "x-3y=0 \\\\\n",
    "\\end{cases}$ \n",
    "\n",
    "b)$\\begin{cases}\n",
    "2a+b+c=-1\\\\\n",
    "a+c=0 \\\\\n",
    "-3a+5b-c=2\\\\\n",
    "\\end{cases}$ \n"
   ]
  },
  {
   "cell_type": "markdown",
   "metadata": {},
   "source": [
    "5.  Determine a inversa das matrizes: \n",
    "<br>\n",
    "a) H =  $\\begin{bmatrix}\n",
    "1 & 0 \\\\   \n",
    "3 & 0\\\\\n",
    "\\end{bmatrix}$\n",
    "<br>\n",
    "b) I = $\\begin{bmatrix}\n",
    "1 & 0 & 0\\\\   \n",
    "1 & 3 & 1\\\\\n",
    "1 & 2 & 0\\\\\n",
    "\\end{bmatrix}$"
   ]
  },
  {
   "cell_type": "markdown",
   "metadata": {},
   "source": [
    "# <b>9. Hands On! - Parte 2</b>"
   ]
  },
  {
   "cell_type": "markdown",
   "metadata": {},
   "source": [
    "1. Com base nos dados gerados a seguir obtenha a matriz de coeficientes da regressão linear e em seguida utilize a biblioteca Statsmodels para verificar os resultados obtidos."
   ]
  },
  {
   "cell_type": "code",
   "execution_count": 56,
   "metadata": {},
   "outputs": [],
   "source": [
    "from sklearn.datasets import make_regression\n",
    "X, y = make_regression(n_samples = 1000, n_features = 10, random_state = 99)"
   ]
  },
  {
   "cell_type": "markdown",
   "metadata": {},
   "source": [
    "$$\\hat{\\beta}_{ols} = (X'X)^{-1}(X'y)$$"
   ]
  },
  {
   "cell_type": "markdown",
   "metadata": {},
   "source": [
    "2. Use a biblioteca sklearn para ajustar um modelo de regressão linear com base nas matrizes anteriores, calcule ainda outras métricas de avaliação da regressão. Use a função train_test_split() para separar os dados em treino e teste com random_state igual a 55. "
   ]
  },
  {
   "cell_type": "markdown",
   "metadata": {},
   "source": [
    "3. Faça: "
   ]
  },
  {
   "cell_type": "markdown",
   "metadata": {},
   "source": [
    "a. Importe o banco de dados anexo nesta aula (kc_house_data.csv);\n",
    "\n",
    "b. Mostre as 5 primeiras linhas;\n",
    "\n",
    "c. Mostre as colunas e o índice do dataset;\n",
    "\n",
    "d. Mostre o shape do dataset;\n",
    "\n",
    "e. Mostre informações do objeto criado com a função info();\n",
    "\n",
    "f. Mostre o dtype de cada coluna;\n",
    "\n",
    "g. Remova as seguintes colunas: 'id', 'date', 'zipcode', 'lat', 'long';\n",
    "\n",
    "h. Verifique se há missing data no dataset;\n",
    "\n",
    "i. Mostre estatísticas descritivas do dataset com a função describe();\n",
    "\n",
    "j. Calcule a matriz de correlação;\n",
    "\n",
    "l. Calcule a matriz de covariância;\n",
    "\n",
    "m. Faça um mapa de calor com base na matriz de correlação, use o módulo Seaborn;\n",
    "\n",
    "n. Faça um gráfico das relações entre as variáveis do dataset com a função pairplot do módulo Seaborn;\n",
    "\n",
    "o. Defina a variável target (coluna 'price') e armazene em uma variável;\n",
    "\n",
    "p. Defina as variáveis preditoras, que serão utilizadas para explicar o preço, e armazene em uma variável;\n",
    "\n",
    "q. Use a função train_test_split do sklearn para separar o dataset em dados de treino e teste, defina o test_size = 0.3 e random_state = 33;\n",
    "\n",
    "r. Crie um modelo de regressão linear e ajuste aos dados de treino, use: from sklearn.linear_model import LinearRegression;\n",
    "\n",
    "s. Calcule o coeficiente de determinação do modelo com a função score(), passando os dados de teste;"
   ]
  },
  {
   "cell_type": "markdown",
   "metadata": {},
   "source": [
    "# Próximos passos: Rede Neural"
   ]
  },
  {
   "cell_type": "markdown",
   "metadata": {},
   "source": [
    "* https://www.deeplearningbook.org/"
   ]
  },
  {
   "cell_type": "markdown",
   "metadata": {},
   "source": [
    "# Adendos"
   ]
  },
  {
   "cell_type": "markdown",
   "metadata": {},
   "source": [
    "<b>Propriedades da soma de matrizes</b> <br>\n",
    "Considerando as matrizes A, B e C de mesma ordem $m x n$ temos que: \n",
    "1. $\\mathbf {A} +\\mathbf {B} = \\mathbf{B+A} $ (comutatividade)\n",
    "2. $\\mathbf {A}+\\mathbf{(B+C)} = \\mathbf{(A+B)}+C$ (associatividade)\n",
    "3. $\\mathbf {A}+\\mathbf{0} = \\mathbf{A}$ "
   ]
  },
  {
   "cell_type": "markdown",
   "metadata": {},
   "source": [
    "<b>Propriedades da multiplicação por escalar </b> <br>\n",
    "Sejam as matrizes A e B de mesma ordem e as constantes reais $k$, $k_1$, $k_2$, temos que:\n",
    "1. $k(\\mathbf{A+B}) = k\\mathbf{A}+k\\mathbf{B}$\n",
    "2. $(k_1+k_2)\\mathbf{A} = k_1\\mathbf{A}+k_2\\mathbf{A}$\n",
    "3. $k\\mathbf{A} = \\mathbf{0} $, em que k=0"
   ]
  },
  {
   "cell_type": "markdown",
   "metadata": {},
   "source": [
    "<b>Propriedades da Multiplicação de Matrizes</b>\n",
    "1. Em geral $\\mathbf{AB}\\neq\\mathbf{BA}$.\n",
    "2. $\\mathbf{AI} = \\mathbf{IA} = \\mathbf{A} $ (o que justifica o nome da matriz identidade)\n",
    "3. $\\mathbf{A(B+C)} = \\mathbf{AB}+\\mathbf{AC}$ (distributividade à esquerda da multiplicação)\n",
    "4. $\\mathbf{(A+B)C} = \\mathbf{AC+BC} $ (distributividade à direita da multiplicação)\n",
    "5. $\\mathbf{(AB)C = A(BC)} $ (associatividade)\n",
    "6. $\\mathbf{(AB)' = B'A'} $\n",
    "7. $\\mathbf{0 \\cdot A = 0}$ e $\\mathbf{A \\cdot 0 = 0}$"
   ]
  },
  {
   "cell_type": "markdown",
   "metadata": {},
   "source": [
    "<b>Propriedades da transposição de matrizes</b>\n",
    "1. Uma matriz é simétrica se, e somente se ela é igual à sua transposta, ou seja, $\\mathbf{A=A'}$.\n",
    "2. $\\mathbf{A''=A}$.\n",
    "3. $\\mathbf{(A+B)'=A'+B'}$.\n",
    "4. $\\mathbf{(kA)'=kA'}$, em que k é um escalar."
   ]
  },
  {
   "cell_type": "markdown",
   "metadata": {},
   "source": [
    "<b>Propriedades do traço</b>\n",
    "1. $tr\\mathbf{(A+B)} = tr\\mathbf{(B+A)}$\n",
    "2. $tr\\mathbf{(\\alpha \\cdot A)} = \\alpha \\cdot tr\\mathbf{(A)}$, com $\\alpha \\in \\mathbb{R} $\n",
    "3. $tr\\mathbf{(A)} = tr\\mathbf{(A')} $\n",
    "4. $tr\\mathbf{(I_{n})} = n$\n",
    "5. $tr\\mathbf{(AB)} = tr\\mathbf{(BA)}$"
   ]
  }
 ],
 "metadata": {
  "kernelspec": {
   "display_name": "Python 3",
   "language": "python",
   "name": "python3"
  },
  "language_info": {
   "codemirror_mode": {
    "name": "ipython",
    "version": 3
   },
   "file_extension": ".py",
   "mimetype": "text/x-python",
   "name": "python",
   "nbconvert_exporter": "python",
   "pygments_lexer": "ipython3",
   "version": "3.8.5"
  }
 },
 "nbformat": 4,
 "nbformat_minor": 4
}
